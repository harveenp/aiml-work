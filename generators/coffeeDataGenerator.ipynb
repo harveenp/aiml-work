{
 "cells": [
  {
   "cell_type": "code",
   "execution_count": 1,
   "id": "89823b0d-6b02-4b5b-9123-f09d71f59a53",
   "metadata": {
    "tags": []
   },
   "outputs": [],
   "source": [
    "import numpy as np\n",
    "from google.cloud import storage\n",
    "from tempfile import TemporaryFile"
   ]
  },
  {
   "cell_type": "code",
   "execution_count": 3,
   "id": "f58ae3dd-5b86-4b7d-bf5d-0980c4111582",
   "metadata": {
    "tags": []
   },
   "outputs": [],
   "source": [
    "\n",
    "rng = np.random.default_rng(2)\n",
    "X = rng.random(400).reshape(-1,2)\n",
    "X[:,1] = X[:,1] * 4 + 11.5          # 12-15 min is best\n",
    "X[:,0] = X[:,0] * (285-150) + 150  # 350-500 F (175-260 C) is best\n",
    "Y = np.zeros(len(X))\n",
    "    \n",
    "i=0\n",
    "for t,d in X:\n",
    "    y = -3/(260-175)*t + 21\n",
    "    if (t > 175 and t < 260 and d > 12 and d < 15 and d<=y ):\n",
    "        Y[i] = 1\n",
    "    else:\n",
    "        Y[i] = 0\n",
    "    i += 1\n",
    "\n",
    "#X, Y.reshape(-1,1)\n",
    "Xt=np.tile(X,(1000,1))\n",
    "Yt=np.tile(Y,(1000,1))\n",
    "data_train=np.hstack((Xt, Yt.reshape(-1,1)))"
   ]
  },
  {
   "cell_type": "code",
   "execution_count": 4,
   "id": "50e2b5a6-ba6f-499a-a34c-db88ce9ff319",
   "metadata": {
    "tags": []
   },
   "outputs": [],
   "source": [
    "storage_client = storage.Client()\n",
    "bucket = storage_client.bucket('coffee_data_harveen')\n",
    "blob_train = bucket.blob('orig_data/coffeeData.csv')"
   ]
  },
  {
   "cell_type": "code",
   "execution_count": 5,
   "id": "eeb54375-0c50-4580-ad70-7c09e42bca09",
   "metadata": {
    "tags": []
   },
   "outputs": [],
   "source": [
    "with TemporaryFile() as temp_file_train:\n",
    "            np.savetxt(temp_file_train, data_train, delimiter=\",\",fmt='%f')\n",
    "            temp_file_train.seek(0)\n",
    "            blob_train.upload_from_file(temp_file_train)"
   ]
  },
  {
   "cell_type": "code",
   "execution_count": null,
   "id": "0a80b254-7f53-4c83-a101-741d55665c78",
   "metadata": {},
   "outputs": [],
   "source": []
  }
 ],
 "metadata": {
  "environment": {
   "kernel": "python3",
   "name": "tf2-cpu.2-11.m120",
   "type": "gcloud",
   "uri": "us-docker.pkg.dev/deeplearning-platform-release/gcr.io/tf2-cpu.2-11:m120"
  },
  "kernelspec": {
   "display_name": "Python 3 (Local)",
   "language": "python",
   "name": "python3"
  },
  "language_info": {
   "codemirror_mode": {
    "name": "ipython",
    "version": 3
   },
   "file_extension": ".py",
   "mimetype": "text/x-python",
   "name": "python",
   "nbconvert_exporter": "python",
   "pygments_lexer": "ipython3",
   "version": "3.10.14"
  }
 },
 "nbformat": 4,
 "nbformat_minor": 5
}

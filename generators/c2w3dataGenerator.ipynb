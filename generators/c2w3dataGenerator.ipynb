{
 "cells": [
  {
   "cell_type": "code",
   "execution_count": 1,
   "id": "99316525-76a7-4b43-92e2-0b39cadac406",
   "metadata": {
    "tags": []
   },
   "outputs": [],
   "source": [
    "import numpy as np\n",
    "from sklearn.datasets import make_blobs\n",
    "from sklearn.model_selection import train_test_split\n",
    "from google.cloud import storage\n",
    "from tempfile import TemporaryFile"
   ]
  },
  {
   "cell_type": "code",
   "execution_count": 2,
   "id": "02b97b34-9ac4-4bc8-8434-d85fcafb8a2f",
   "metadata": {
    "tags": []
   },
   "outputs": [],
   "source": [
    "def gen_blobs():\n",
    "    classes = 6\n",
    "    m = 800\n",
    "    std = 0.4\n",
    "    centers = np.array([[-1, 0], [1, 0], [0, 1], [0, -1],  [-2,1],[-2,-1]])\n",
    "    X, y = make_blobs(n_samples=m, centers=centers, cluster_std=std, random_state=2, n_features=2)\n",
    "    return (X, y, centers, classes, std)"
   ]
  },
  {
   "cell_type": "code",
   "execution_count": 3,
   "id": "88480064-fec0-412b-9bdd-81e7b9ffa2a4",
   "metadata": {
    "tags": []
   },
   "outputs": [],
   "source": [
    "X, y, centers, classes, std = gen_blobs()"
   ]
  },
  {
   "cell_type": "code",
   "execution_count": 4,
   "id": "cc2439af-6b2e-47a1-a8e8-7026592ec45a",
   "metadata": {
    "tags": []
   },
   "outputs": [
    {
     "name": "stdout",
     "output_type": "stream",
     "text": [
      "X_train.shape: (400, 2) X_cv.shape: (320, 2) X_test.shape: (80, 2)\n"
     ]
    }
   ],
   "source": [
    "X_train, X_, y_train, y_ = train_test_split(X,y,test_size=0.50, random_state=1)\n",
    "X_cv, X_test, y_cv, y_test = train_test_split(X_,y_,test_size=0.20, random_state=1)\n",
    "print(\"X_train.shape:\", X_train.shape, \"X_cv.shape:\", X_cv.shape, \"X_test.shape:\", X_test.shape)"
   ]
  },
  {
   "cell_type": "code",
   "execution_count": 5,
   "id": "9267d7b6-dbab-4f1a-b1da-bda9690c5fe0",
   "metadata": {
    "tags": []
   },
   "outputs": [],
   "source": [
    "data_total=np.hstack((X,y.reshape(-1,1)))"
   ]
  },
  {
   "cell_type": "code",
   "execution_count": 6,
   "id": "a45e8498-efe9-48d4-b8a1-283cffaf8a1b",
   "metadata": {
    "tags": []
   },
   "outputs": [],
   "source": [
    "data_train=np.hstack((X_train,y_train.reshape(-1,1)))"
   ]
  },
  {
   "cell_type": "code",
   "execution_count": 7,
   "id": "4ae683d4-83b9-4789-89d4-03c6d12a9ccd",
   "metadata": {
    "tags": []
   },
   "outputs": [],
   "source": [
    "data_cv=np.hstack((X_cv,y_cv.reshape(-1,1)))"
   ]
  },
  {
   "cell_type": "code",
   "execution_count": 8,
   "id": "37ad6dfb-5a11-4e13-b825-a0fcef62b1b7",
   "metadata": {
    "tags": []
   },
   "outputs": [],
   "source": [
    "data_test=np.hstack((X_test,y_test.reshape(-1,1)))"
   ]
  },
  {
   "cell_type": "code",
   "execution_count": 12,
   "id": "730ab957-cad7-43a5-8f81-9565529bd413",
   "metadata": {
    "tags": []
   },
   "outputs": [
    {
     "data": {
      "text/plain": [
       "(80, 3)"
      ]
     },
     "execution_count": 12,
     "metadata": {},
     "output_type": "execute_result"
    }
   ],
   "source": [
    "data_test.shape"
   ]
  },
  {
   "cell_type": "code",
   "execution_count": null,
   "id": "5232d3c4-52b4-4b9b-a908-7561c62ab766",
   "metadata": {},
   "outputs": [],
   "source": []
  },
  {
   "cell_type": "code",
   "execution_count": 13,
   "id": "609c987e-cc11-4bf8-8d23-6fe3bfab38f2",
   "metadata": {
    "tags": []
   },
   "outputs": [],
   "source": [
    "storage_client = storage.Client()\n",
    "bucket = storage_client.bucket('aiml_harveen')\n",
    "blob_orig = bucket.blob('c2w3_assignment/classification/orig_data/data.csv')\n",
    "blob_raw = bucket.blob('c2w3_assignment/classification/raw_data/data.csv')\n",
    "blob_train = bucket.blob('c2w3_assignment/classification/training_data/data.csv')\n",
    "blob_cv = bucket.blob('c2w3_assignment/classification/dev_data/data.csv')\n",
    "blob_test = bucket.blob('c2w3_assignment/classification/test_data/data.csv')"
   ]
  },
  {
   "cell_type": "code",
   "execution_count": 18,
   "id": "5e9c6a20-bc27-443a-ae11-47e25eef091e",
   "metadata": {
    "tags": []
   },
   "outputs": [],
   "source": [
    "with TemporaryFile() as temp_file_train:\n",
    "            np.savetxt(temp_file_train, data_test, delimiter=\",\",fmt='%f')\n",
    "            temp_file_train.seek(0)\n",
    "            blob_test.upload_from_file(temp_file_train)"
   ]
  },
  {
   "cell_type": "code",
   "execution_count": null,
   "id": "b6f02f10-4fb7-48b1-a25c-1f9ab02330e5",
   "metadata": {},
   "outputs": [],
   "source": []
  }
 ],
 "metadata": {
  "environment": {
   "kernel": "python3",
   "name": "tf2-cpu.2-11.m120",
   "type": "gcloud",
   "uri": "us-docker.pkg.dev/deeplearning-platform-release/gcr.io/tf2-cpu.2-11:m120"
  },
  "kernelspec": {
   "display_name": "Python 3 (Local)",
   "language": "python",
   "name": "python3"
  },
  "language_info": {
   "codemirror_mode": {
    "name": "ipython",
    "version": 3
   },
   "file_extension": ".py",
   "mimetype": "text/x-python",
   "name": "python",
   "nbconvert_exporter": "python",
   "pygments_lexer": "ipython3",
   "version": "3.10.14"
  }
 },
 "nbformat": 4,
 "nbformat_minor": 5
}

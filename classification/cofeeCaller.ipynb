{
 "cells": [
  {
   "cell_type": "code",
   "execution_count": 1,
   "id": "483edbc4-56ef-4e21-941b-5cfc9be0ca4f",
   "metadata": {
    "tags": []
   },
   "outputs": [
    {
     "name": "stderr",
     "output_type": "stream",
     "text": [
      "2024-05-09 22:08:14.625426: I tensorflow/core/platform/cpu_feature_guard.cc:193] This TensorFlow binary is optimized with oneAPI Deep Neural Network Library (oneDNN) to use the following CPU instructions in performance-critical operations:  AVX2 FMA\n",
      "To enable them in other operations, rebuild TensorFlow with the appropriate compiler flags.\n",
      "2024-05-09 22:08:15.917608: W tensorflow/compiler/xla/stream_executor/platform/default/dso_loader.cc:64] Could not load dynamic library 'libnvinfer.so.7'; dlerror: libnvinfer.so.7: cannot open shared object file: No such file or directory; LD_LIBRARY_PATH: /usr/local/cuda/lib64:/usr/local/nccl2/lib:/usr/local/cuda/extras/CUPTI/lib64\n",
      "2024-05-09 22:08:15.917734: W tensorflow/compiler/xla/stream_executor/platform/default/dso_loader.cc:64] Could not load dynamic library 'libnvinfer_plugin.so.7'; dlerror: libnvinfer_plugin.so.7: cannot open shared object file: No such file or directory; LD_LIBRARY_PATH: /usr/local/cuda/lib64:/usr/local/nccl2/lib:/usr/local/cuda/extras/CUPTI/lib64\n",
      "2024-05-09 22:08:15.917744: W tensorflow/compiler/tf2tensorrt/utils/py_utils.cc:38] TF-TRT Warning: Cannot dlopen some TensorRT libraries. If you would like to use Nvidia GPU with TensorRT, please make sure the missing libraries mentioned above are installed properly.\n"
     ]
    }
   ],
   "source": [
    "import os\n",
    "from InputDataProcessor import InputDataProcessor \n",
    "from distributeFunctions import distribute_100\n",
    "from dataFilters import coffee_filter\n",
    "from genericModel import train, evaluate, test, predict\n",
    "from tensorflow.keras.losses import BinaryCrossentropy\n",
    "from tensorflow.keras.optimizers import Adam\n",
    "from ModelConfig import ModelConfig"
   ]
  },
  {
   "cell_type": "code",
   "execution_count": 2,
   "id": "b088984c-9a05-40e6-a75d-25adecc916ee",
   "metadata": {
    "tags": []
   },
   "outputs": [],
   "source": [
    "idp=InputDataProcessor(bucket_name='aiml_harveen', use_case='coffee/classification', file_name='coffeeData.csv')"
   ]
  },
  {
   "cell_type": "code",
   "execution_count": 3,
   "id": "9b6387e4-47b8-4b37-809f-32bce8b3c025",
   "metadata": {
    "tags": []
   },
   "outputs": [],
   "source": [
    "idp.prepareCsvModelInputData(coffee_filter,distribute_100)"
   ]
  },
  {
   "cell_type": "code",
   "execution_count": 4,
   "id": "dae322f7-1506-4f98-8126-10e1aa6bbcee",
   "metadata": {},
   "outputs": [],
   "source": [
    "os.environ[\"AIP_TRAINING_DATA_URI\"] = \"gs://aiml_harveen/coffee/classification/training_data/coffeeData.csv\"\n",
    "os.environ[\"AIP_VALIDATION_DATA_URI\"] = \"gs://aiml_harveen/coffee/classification/dev_data/coffeeData.csv\"\n",
    "os.environ[\"AIP_TEST_DATA_URI\"] = \"gs://aiml_harveen/coffee/classification/test_data/coffeeData.csv\"\n",
    "os.environ[\"AIP_MODEL_DIR\"] = \"gs://aiml_harveen/coffee/classification/coffee_model\""
   ]
  },
  {
   "cell_type": "code",
   "execution_count": 5,
   "id": "500a78f6-a678-4605-9557-d9eccdda9c02",
   "metadata": {
    "tags": []
   },
   "outputs": [
    {
     "name": "stderr",
     "output_type": "stream",
     "text": [
      "2024-05-09 22:08:23.004752: W tensorflow/compiler/xla/stream_executor/platform/default/dso_loader.cc:64] Could not load dynamic library 'libcuda.so.1'; dlerror: libcuda.so.1: cannot open shared object file: No such file or directory; LD_LIBRARY_PATH: /usr/local/cuda/lib64:/usr/local/nccl2/lib:/usr/local/cuda/extras/CUPTI/lib64\n",
      "2024-05-09 22:08:23.004797: W tensorflow/compiler/xla/stream_executor/cuda/cuda_driver.cc:265] failed call to cuInit: UNKNOWN ERROR (303)\n",
      "2024-05-09 22:08:23.004822: I tensorflow/compiler/xla/stream_executor/cuda/cuda_diagnostics.cc:156] kernel driver does not appear to be running on this host (instance-20240502-111332): /proc/driver/nvidia/version does not exist\n",
      "2024-05-09 22:08:23.006588: I tensorflow/core/platform/cpu_feature_guard.cc:193] This TensorFlow binary is optimized with oneAPI Deep Neural Network Library (oneDNN) to use the following CPU instructions in performance-critical operations:  AVX2 FMA\n",
      "To enable them in other operations, rebuild TensorFlow with the appropriate compiler flags.\n"
     ]
    }
   ],
   "source": [
    "modelConfig=ModelConfig(\n",
    "    model_type=\"classification\",\n",
    "    layers=[\"sigmoid\",\"sigmoid\"],\n",
    "    regularizers=[0,0],\n",
    "    neurons=[3,1],\n",
    "    epochs=10,\n",
    "    loss=BinaryCrossentropy(),\n",
    "    optimizer=Adam(learning_rate=0.01))"
   ]
  },
  {
   "cell_type": "code",
   "execution_count": 6,
   "id": "cb7bca95-7479-47b3-a219-258e0113e0d3",
   "metadata": {},
   "outputs": [
    {
     "name": "stdout",
     "output_type": "stream",
     "text": [
      "Model: \"sequential\"\n",
      "_________________________________________________________________\n",
      " Layer (type)                Output Shape              Param #   \n",
      "=================================================================\n",
      " dense (Dense)               (None, 3)                 9         \n",
      "                                                                 \n",
      " dense_1 (Dense)             (None, 1)                 4         \n",
      "                                                                 \n",
      "=================================================================\n",
      "Total params: 13\n",
      "Trainable params: 13\n",
      "Non-trainable params: 0\n",
      "_________________________________________________________________\n",
      "Epoch 1/10\n",
      "6250/6250 [==============================] - 10s 1ms/step - loss: 0.1881\n",
      "Epoch 2/10\n",
      "6250/6250 [==============================] - 9s 2ms/step - loss: 0.1211\n",
      "Epoch 3/10\n",
      "6250/6250 [==============================] - 10s 2ms/step - loss: 0.0860\n",
      "Epoch 4/10\n",
      "6250/6250 [==============================] - 10s 2ms/step - loss: 0.0215\n",
      "Epoch 5/10\n",
      "6250/6250 [==============================] - 10s 2ms/step - loss: 0.0132\n",
      "Epoch 6/10\n",
      "6250/6250 [==============================] - 10s 2ms/step - loss: 0.0092\n",
      "Epoch 7/10\n",
      "6250/6250 [==============================] - 9s 2ms/step - loss: 0.0067\n",
      "Epoch 8/10\n",
      "6250/6250 [==============================] - 10s 2ms/step - loss: 0.0049\n",
      "Epoch 9/10\n",
      "6250/6250 [==============================] - 10s 2ms/step - loss: 0.0036\n",
      "Epoch 10/10\n",
      "6250/6250 [==============================] - 10s 2ms/step - loss: 0.0027\n"
     ]
    },
    {
     "name": "stderr",
     "output_type": "stream",
     "text": [
      "WARNING:absl:Found untraced functions such as _update_step_xla while saving (showing 1 of 1). These functions will not be directly callable after loading.\n"
     ]
    },
    {
     "name": "stdout",
     "output_type": "stream",
     "text": [
      "INFO:tensorflow:Assets written to: gs://aiml_harveen/coffee/classification/coffee_model/assets\n"
     ]
    },
    {
     "name": "stderr",
     "output_type": "stream",
     "text": [
      "INFO:tensorflow:Assets written to: gs://aiml_harveen/coffee/classification/coffee_model/assets\n"
     ]
    }
   ],
   "source": [
    "train(modelConfig)\n",
    "#evaluate()\n",
    "#test()\n",
    "#predict(avg_temp=13.9,min_temp=10,max_temp=17.4,wind_dir=73,wind_speed=5.9,pressure=1010.3)"
   ]
  },
  {
   "cell_type": "code",
   "execution_count": null,
   "id": "f726bc6c-e17b-4f7e-b1a4-aeb5de929fa5",
   "metadata": {},
   "outputs": [],
   "source": []
  }
 ],
 "metadata": {
  "environment": {
   "kernel": "python3",
   "name": "tf2-cpu.2-11.m120",
   "type": "gcloud",
   "uri": "us-docker.pkg.dev/deeplearning-platform-release/gcr.io/tf2-cpu.2-11:m120"
  },
  "kernelspec": {
   "display_name": "Python 3 (Local)",
   "language": "python",
   "name": "python3"
  },
  "language_info": {
   "codemirror_mode": {
    "name": "ipython",
    "version": 3
   },
   "file_extension": ".py",
   "mimetype": "text/x-python",
   "name": "python",
   "nbconvert_exporter": "python",
   "pygments_lexer": "ipython3",
   "version": "3.10.14"
  }
 },
 "nbformat": 4,
 "nbformat_minor": 5
}

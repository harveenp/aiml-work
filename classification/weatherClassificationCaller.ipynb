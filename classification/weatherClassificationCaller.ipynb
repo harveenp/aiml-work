{
 "cells": [
  {
   "cell_type": "code",
   "execution_count": 1,
   "id": "93ee9381-a8ac-472a-a508-2f624251de10",
   "metadata": {
    "tags": []
   },
   "outputs": [
    {
     "name": "stderr",
     "output_type": "stream",
     "text": [
      "2024-05-13 03:54:27.566453: I tensorflow/core/platform/cpu_feature_guard.cc:193] This TensorFlow binary is optimized with oneAPI Deep Neural Network Library (oneDNN) to use the following CPU instructions in performance-critical operations:  AVX2 FMA\n",
      "To enable them in other operations, rebuild TensorFlow with the appropriate compiler flags.\n",
      "2024-05-13 03:54:28.950640: W tensorflow/compiler/xla/stream_executor/platform/default/dso_loader.cc:64] Could not load dynamic library 'libnvinfer.so.7'; dlerror: libnvinfer.so.7: cannot open shared object file: No such file or directory; LD_LIBRARY_PATH: /usr/local/cuda/lib64:/usr/local/nccl2/lib:/usr/local/cuda/extras/CUPTI/lib64\n",
      "2024-05-13 03:54:28.950765: W tensorflow/compiler/xla/stream_executor/platform/default/dso_loader.cc:64] Could not load dynamic library 'libnvinfer_plugin.so.7'; dlerror: libnvinfer_plugin.so.7: cannot open shared object file: No such file or directory; LD_LIBRARY_PATH: /usr/local/cuda/lib64:/usr/local/nccl2/lib:/usr/local/cuda/extras/CUPTI/lib64\n",
      "2024-05-13 03:54:28.950775: W tensorflow/compiler/tf2tensorrt/utils/py_utils.cc:38] TF-TRT Warning: Cannot dlopen some TensorRT libraries. If you would like to use Nvidia GPU with TensorRT, please make sure the missing libraries mentioned above are installed properly.\n"
     ]
    }
   ],
   "source": [
    "import os\n",
    "import numpy as np\n",
    "from InputDataProcessor import InputDataProcessor \n",
    "from GenericModel import GenericModel\n",
    "from distributeFunctions import distribute_602020\n",
    "from dataFilters import csv_weather_data_prediction_filter, csv_weather_data_classification_filter\n",
    "from tensorflow.keras.losses import BinaryCrossentropy, MeanSquaredError\n",
    "from tensorflow.keras.optimizers import Adam\n",
    "from ModelConfig import ModelConfig"
   ]
  },
  {
   "cell_type": "code",
   "execution_count": 2,
   "id": "9ee13f53-60f2-44e5-932b-12f07ee8efa8",
   "metadata": {
    "tags": []
   },
   "outputs": [],
   "source": [
    "idp=InputDataProcessor(bucket_name='aiml_harveen', use_case='weather_elbasan/classification', file_name='elbasan2021.csv')"
   ]
  },
  {
   "cell_type": "code",
   "execution_count": 3,
   "id": "d1e34985-44f6-4334-b304-a1d659e554ff",
   "metadata": {
    "tags": []
   },
   "outputs": [],
   "source": [
    "idp.prepareCsvModelInputData(csv_weather_data_classification_filter,distribute_602020)"
   ]
  },
  {
   "cell_type": "code",
   "execution_count": 4,
   "id": "b1cda6c2-ccfb-4bc3-8820-89325549fa62",
   "metadata": {
    "tags": []
   },
   "outputs": [],
   "source": [
    "os.environ[\"AIP_TRAINING_DATA_URI\"] = \"gs://aiml_harveen/weather_elbasan/classification/training_data/elbasan2021.csv\"\n",
    "os.environ[\"AIP_VALIDATION_DATA_URI\"] = \"gs://aiml_harveen/weather_elbasan/classification/dev_data/elbasan2021.csv\"\n",
    "os.environ[\"AIP_TEST_DATA_URI\"] = \"gs://aiml_harveen/weather_elbasan/classification/test_data/elbasan2021.csv\"\n",
    "os.environ[\"AIP_MODEL_DIR\"] = \"gs://aiml_harveen/weather_elbasan/classification/weather_model\""
   ]
  },
  {
   "cell_type": "code",
   "execution_count": 5,
   "id": "78ff2a78-2e66-4895-adef-1a6dc46d8412",
   "metadata": {
    "tags": []
   },
   "outputs": [
    {
     "name": "stderr",
     "output_type": "stream",
     "text": [
      "2024-05-13 03:54:33.033806: W tensorflow/compiler/xla/stream_executor/platform/default/dso_loader.cc:64] Could not load dynamic library 'libcuda.so.1'; dlerror: libcuda.so.1: cannot open shared object file: No such file or directory; LD_LIBRARY_PATH: /usr/local/cuda/lib64:/usr/local/nccl2/lib:/usr/local/cuda/extras/CUPTI/lib64\n",
      "2024-05-13 03:54:33.033846: W tensorflow/compiler/xla/stream_executor/cuda/cuda_driver.cc:265] failed call to cuInit: UNKNOWN ERROR (303)\n",
      "2024-05-13 03:54:33.033873: I tensorflow/compiler/xla/stream_executor/cuda/cuda_diagnostics.cc:156] kernel driver does not appear to be running on this host (instance-20240502-111332): /proc/driver/nvidia/version does not exist\n",
      "2024-05-13 03:54:33.035111: I tensorflow/core/platform/cpu_feature_guard.cc:193] This TensorFlow binary is optimized with oneAPI Deep Neural Network Library (oneDNN) to use the following CPU instructions in performance-critical operations:  AVX2 FMA\n",
      "To enable them in other operations, rebuild TensorFlow with the appropriate compiler flags.\n"
     ]
    }
   ],
   "source": [
    "modelConfigList=[\n",
    "    ModelConfig(\n",
    "    model_type=\"classification\",\n",
    "    layers=[\"relu\",\"relu\",\"sigmoid\"],\n",
    "    regularizers=[0.02,0.02,0.02],\n",
    "    neurons=[32,16,1],\n",
    "    epochs=20,\n",
    "    loss=BinaryCrossentropy(),\n",
    "    optimizer=Adam(learning_rate=0.003)),\n",
    "    \n",
    "#    ModelConfig(\n",
    "#    model_type=\"classification\",\n",
    "#    layers=[\"relu\",\"relu\",\"relu\",\"relu\",\"sigmoid\"],\n",
    "#    regularizers=[0.02,0.02,0.02,0.02,0.02],\n",
    "#    neurons=[32,32,16,16,1],\n",
    "#    epochs=20,\n",
    "#    loss=BinaryCrossentropy(),\n",
    "#    optimizer=Adam(learning_rate=0.003))\n",
    "]"
   ]
  },
  {
   "cell_type": "code",
   "execution_count": 6,
   "id": "f7fb8f77-3e83-4be0-b790-6f8a666882ef",
   "metadata": {
    "tags": []
   },
   "outputs": [],
   "source": [
    "trainErrAry=np.zeros([len(modelConfigList)])\n",
    "validationErrAry=np.zeros([len(modelConfigList)])\n",
    "testErrAry=np.zeros([len(modelConfigList)])"
   ]
  },
  {
   "cell_type": "code",
   "execution_count": 7,
   "id": "9a1f8202-85d3-4d03-84c8-2ac9e0223ad2",
   "metadata": {
    "tags": []
   },
   "outputs": [
    {
     "name": "stdout",
     "output_type": "stream",
     "text": [
      "Model: \"sequential\"\n",
      "_________________________________________________________________\n",
      " Layer (type)                Output Shape              Param #   \n",
      "=================================================================\n",
      " dense (Dense)               (None, 32)                224       \n",
      "                                                                 \n",
      " dense_1 (Dense)             (None, 16)                528       \n",
      "                                                                 \n",
      " dense_2 (Dense)             (None, 1)                 17        \n",
      "                                                                 \n",
      "=================================================================\n",
      "Total params: 769\n",
      "Trainable params: 769\n",
      "Non-trainable params: 0\n",
      "_________________________________________________________________\n",
      "7/7 [==============================] - 0s 2ms/step\n",
      "3/3 [==============================] - 0s 3ms/step\n",
      "3/3 [==============================] - 0s 2ms/step\n",
      "[[0. 0.]\n",
      " [0. 0.]\n",
      " [0. 0.]\n",
      " [1. 0.]\n",
      " [0. 0.]\n",
      " [0. 0.]\n",
      " [0. 0.]\n",
      " [0. 0.]\n",
      " [0. 0.]\n",
      " [0. 0.]\n",
      " [0. 0.]\n",
      " [0. 0.]\n",
      " [0. 0.]\n",
      " [1. 0.]\n",
      " [0. 0.]\n",
      " [0. 0.]\n",
      " [0. 0.]\n",
      " [0. 0.]\n",
      " [0. 0.]\n",
      " [0. 0.]\n",
      " [0. 0.]\n",
      " [0. 0.]\n",
      " [0. 0.]\n",
      " [0. 0.]\n",
      " [0. 0.]\n",
      " [1. 0.]\n",
      " [0. 0.]\n",
      " [0. 0.]\n",
      " [0. 0.]\n",
      " [0. 0.]\n",
      " [0. 0.]\n",
      " [0. 0.]\n",
      " [0. 0.]\n",
      " [1. 0.]\n",
      " [1. 0.]\n",
      " [0. 0.]\n",
      " [0. 0.]\n",
      " [1. 1.]\n",
      " [1. 1.]\n",
      " [1. 1.]\n",
      " [1. 1.]\n",
      " [1. 1.]\n",
      " [0. 0.]\n",
      " [1. 1.]\n",
      " [1. 1.]\n",
      " [1. 0.]\n",
      " [1. 1.]\n",
      " [1. 1.]\n",
      " [0. 0.]\n",
      " [0. 0.]\n",
      " [1. 1.]\n",
      " [1. 1.]\n",
      " [1. 1.]\n",
      " [0. 0.]\n",
      " [0. 0.]\n",
      " [0. 0.]\n",
      " [0. 0.]\n",
      " [0. 0.]\n",
      " [0. 0.]\n",
      " [0. 1.]\n",
      " [0. 0.]\n",
      " [0. 0.]\n",
      " [0. 0.]\n",
      " [0. 0.]\n",
      " [0. 0.]\n",
      " [1. 0.]\n",
      " [0. 0.]\n",
      " [1. 0.]\n",
      " [1. 1.]\n",
      " [0. 0.]\n",
      " [1. 0.]\n",
      " [0. 0.]\n",
      " [0. 0.]]\n"
     ]
    }
   ],
   "source": [
    "for idx,modelConfig in enumerate(modelConfigList):\n",
    "    gm=GenericModel(modelConfig)\n",
    "    gm.train()\n",
    "    trainErrAry[idx] = gm.train_err\n",
    "    gm.validate()\n",
    "    validationErrAry[idx] = gm.validation_err\n",
    "    gm.test()\n",
    "    testErrAry[idx] = gm.test_err\n"
   ]
  },
  {
   "cell_type": "code",
   "execution_count": null,
   "id": "131bf5e9-07d0-4352-89d8-772a7f7e04b3",
   "metadata": {},
   "outputs": [],
   "source": []
  },
  {
   "cell_type": "code",
   "execution_count": 8,
   "id": "18de0b3a-e57e-4672-addd-485f8b1c446e",
   "metadata": {},
   "outputs": [
    {
     "data": {
      "text/plain": [
       "array([0.16055046])"
      ]
     },
     "execution_count": 8,
     "metadata": {},
     "output_type": "execute_result"
    }
   ],
   "source": [
    "trainErrAry"
   ]
  },
  {
   "cell_type": "code",
   "execution_count": 9,
   "id": "5b55b226-1331-4d6d-a1a6-8f22cf862796",
   "metadata": {
    "tags": []
   },
   "outputs": [
    {
     "data": {
      "text/plain": [
       "array([0.08219178])"
      ]
     },
     "execution_count": 9,
     "metadata": {},
     "output_type": "execute_result"
    }
   ],
   "source": [
    "validationErrAry"
   ]
  },
  {
   "cell_type": "code",
   "execution_count": 10,
   "id": "b95f32ad-c9ac-48fe-af50-5174b079dacb",
   "metadata": {
    "tags": []
   },
   "outputs": [
    {
     "data": {
      "text/plain": [
       "array([0.1369863])"
      ]
     },
     "execution_count": 10,
     "metadata": {},
     "output_type": "execute_result"
    }
   ],
   "source": [
    "testErrAry"
   ]
  },
  {
   "cell_type": "code",
   "execution_count": null,
   "id": "1292f80a-bd1e-4b01-840e-7d538faa21fe",
   "metadata": {},
   "outputs": [],
   "source": []
  }
 ],
 "metadata": {
  "environment": {
   "kernel": "python3",
   "name": "tf2-cpu.2-11.m120",
   "type": "gcloud",
   "uri": "us-docker.pkg.dev/deeplearning-platform-release/gcr.io/tf2-cpu.2-11:m120"
  },
  "kernelspec": {
   "display_name": "Python 3 (Local)",
   "language": "python",
   "name": "python3"
  },
  "language_info": {
   "codemirror_mode": {
    "name": "ipython",
    "version": 3
   },
   "file_extension": ".py",
   "mimetype": "text/x-python",
   "name": "python",
   "nbconvert_exporter": "python",
   "pygments_lexer": "ipython3",
   "version": "3.10.14"
  }
 },
 "nbformat": 4,
 "nbformat_minor": 5
}

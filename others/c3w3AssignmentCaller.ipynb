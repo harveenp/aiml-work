{
 "cells": [
  {
   "cell_type": "code",
   "execution_count": 1,
   "id": "93ee9381-a8ac-472a-a508-2f624251de10",
   "metadata": {
    "tags": []
   },
   "outputs": [],
   "source": [
    "import os, sys\n",
    "sys.path.append('lib')\n",
    "import numpy as np\n",
    "from InputDataProcessor import InputDataProcessor "
   ]
  },
  {
   "cell_type": "code",
   "execution_count": 2,
   "id": "a2bac75e-895c-42c7-baac-d4371017c403",
   "metadata": {},
   "outputs": [
    {
     "name": "stderr",
     "output_type": "stream",
     "text": [
      "2024-05-17 05:51:43.941298: I tensorflow/core/platform/cpu_feature_guard.cc:193] This TensorFlow binary is optimized with oneAPI Deep Neural Network Library (oneDNN) to use the following CPU instructions in performance-critical operations:  AVX2 FMA\n",
      "To enable them in other operations, rebuild TensorFlow with the appropriate compiler flags.\n",
      "2024-05-17 05:51:45.328287: W tensorflow/compiler/xla/stream_executor/platform/default/dso_loader.cc:64] Could not load dynamic library 'libnvinfer.so.7'; dlerror: libnvinfer.so.7: cannot open shared object file: No such file or directory; LD_LIBRARY_PATH: /usr/local/cuda/lib64:/usr/local/nccl2/lib:/usr/local/cuda/extras/CUPTI/lib64\n",
      "2024-05-17 05:51:45.328466: W tensorflow/compiler/xla/stream_executor/platform/default/dso_loader.cc:64] Could not load dynamic library 'libnvinfer_plugin.so.7'; dlerror: libnvinfer_plugin.so.7: cannot open shared object file: No such file or directory; LD_LIBRARY_PATH: /usr/local/cuda/lib64:/usr/local/nccl2/lib:/usr/local/cuda/extras/CUPTI/lib64\n",
      "2024-05-17 05:51:45.328477: W tensorflow/compiler/tf2tensorrt/utils/py_utils.cc:38] TF-TRT Warning: Cannot dlopen some TensorRT libraries. If you would like to use Nvidia GPU with TensorRT, please make sure the missing libraries mentioned above are installed properly.\n"
     ]
    }
   ],
   "source": [
    "from distributeFunctions import distribute_602020\n",
    "from GenericModel import GenericModel\n",
    "from RecommenderModel import RecommenderModel\n",
    "from distributeFunctions import distribute_602020\n",
    "from dataFilters import csv_weather_data_prediction_filter, csv_weather_data_classification_filter\n",
    "from tensorflow.keras.losses import BinaryCrossentropy,SparseCategoricalCrossentropy, MeanSquaredError\n",
    "from tensorflow.keras.optimizers import Adam\n",
    "from ModelConfig import ModelConfig"
   ]
  },
  {
   "cell_type": "code",
   "execution_count": 3,
   "id": "9ee13f53-60f2-44e5-932b-12f07ee8efa8",
   "metadata": {
    "tags": []
   },
   "outputs": [],
   "source": [
    "idp=InputDataProcessor(bucket_name='aiml_harveen', use_case='weather_elbasan/classification', file_name='elbasan2021.csv')\n"
   ]
  },
  {
   "cell_type": "code",
   "execution_count": 4,
   "id": "d1e34985-44f6-4334-b304-a1d659e554ff",
   "metadata": {
    "tags": []
   },
   "outputs": [],
   "source": [
    "data_train,data_dev,data_test=idp.prepareCsvModelInputData(csv_weather_data_classification_filter,distribute_602020)"
   ]
  },
  {
   "cell_type": "code",
   "execution_count": 5,
   "id": "b1cda6c2-ccfb-4bc3-8820-89325549fa62",
   "metadata": {
    "tags": []
   },
   "outputs": [],
   "source": [
    "#os.environ[\"AIP_TRAINING_DATA_URI\"] = \"gs://aiml_harveen/c2w3_assignment/classification/training_data/data.csv\"\n",
    "#os.environ[\"AIP_VALIDATION_DATA_URI\"] = \"gs://aiml_harveen/c2w3_assignment/classification/dev_data/data.csv\"\n",
    "#os.environ[\"AIP_TEST_DATA_URI\"] = \"gs://aiml_harveen/c2w3_assignment/classification/test_data/data.csv\"\n",
    "#os.environ[\"AIP_MODEL_DIR\"] = \"gs://aiml_harveen/c2w3_assignment/classification/c2w3_model\""
   ]
  },
  {
   "cell_type": "code",
   "execution_count": 6,
   "id": "9218e843-b1a2-4d4e-b6fc-c7137ec95ff1",
   "metadata": {
    "tags": []
   },
   "outputs": [],
   "source": [
    "m,n=data_train.shape\n",
    "data_train_x,data_train_y=np.split(data_train,[n-1],axis=1)"
   ]
  },
  {
   "cell_type": "code",
   "execution_count": 11,
   "id": "380ae9e0-389b-4a18-9b13-9829e8022ca3",
   "metadata": {
    "tags": []
   },
   "outputs": [
    {
     "data": {
      "text/plain": [
       "(218, 6)"
      ]
     },
     "execution_count": 11,
     "metadata": {},
     "output_type": "execute_result"
    }
   ],
   "source": [
    "data_train_x.shape"
   ]
  },
  {
   "cell_type": "code",
   "execution_count": 7,
   "id": "74119cd3-e27d-4902-824f-229e19a03bf3",
   "metadata": {
    "tags": []
   },
   "outputs": [],
   "source": [
    "m,n=data_dev.shape\n",
    "data_dev_x,data_dev_y=np.split(data_dev,[n-1],axis=1)"
   ]
  },
  {
   "cell_type": "code",
   "execution_count": 8,
   "id": "88a8f9df-7412-4a10-9838-e32ac2a5c5e5",
   "metadata": {
    "tags": []
   },
   "outputs": [],
   "source": [
    "m,n=data_test.shape\n",
    "data_test_x,data_test_y=np.split(data_test,[n-1],axis=1)"
   ]
  },
  {
   "cell_type": "code",
   "execution_count": 9,
   "id": "78ff2a78-2e66-4895-adef-1a6dc46d8412",
   "metadata": {
    "tags": []
   },
   "outputs": [
    {
     "name": "stderr",
     "output_type": "stream",
     "text": [
      "2024-05-17 05:51:53.904324: W tensorflow/compiler/xla/stream_executor/platform/default/dso_loader.cc:64] Could not load dynamic library 'libcuda.so.1'; dlerror: libcuda.so.1: cannot open shared object file: No such file or directory; LD_LIBRARY_PATH: /usr/local/cuda/lib64:/usr/local/nccl2/lib:/usr/local/cuda/extras/CUPTI/lib64\n",
      "2024-05-17 05:51:53.904382: W tensorflow/compiler/xla/stream_executor/cuda/cuda_driver.cc:265] failed call to cuInit: UNKNOWN ERROR (303)\n",
      "2024-05-17 05:51:53.904413: I tensorflow/compiler/xla/stream_executor/cuda/cuda_diagnostics.cc:156] kernel driver does not appear to be running on this host (instance-20240502-111332): /proc/driver/nvidia/version does not exist\n",
      "2024-05-17 05:51:53.908744: I tensorflow/core/platform/cpu_feature_guard.cc:193] This TensorFlow binary is optimized with oneAPI Deep Neural Network Library (oneDNN) to use the following CPU instructions in performance-critical operations:  AVX2 FMA\n",
      "To enable them in other operations, rebuild TensorFlow with the appropriate compiler flags.\n"
     ]
    }
   ],
   "source": [
    "modelConfigList=[\n",
    "    ModelConfig(\n",
    "    model_type=\"multi-classification\",\n",
    "    layers=[[\"relu\",\"relu\",\"linear\"]],\n",
    "    regularizers=[[0.00,0.00,0.00]],\n",
    "    neurons=[[120,40,6]],\n",
    "    epochs=10,\n",
    "    loss=SparseCategoricalCrossentropy(from_logits=True),\n",
    "    optimizer=Adam(learning_rate=0.01),\n",
    "    verbose=1,\n",
    "    no_of_networks=1\n",
    "    ),\n",
    "    \n",
    "#    ModelConfig(\n",
    "#    model_type=\"classification\",\n",
    "#    layers=[\"relu\",\"relu\",\"relu\",\"relu\",\"sigmoid\"],\n",
    "#    regularizers=[0.02,0.02,0.02,0.02,0.02],\n",
    "#    neurons=[32,32,16,16,1],\n",
    "#    epochs=20,\n",
    "#    loss=BinaryCrossentropy(),\n",
    "#    optimizer=Adam(learning_rate=0.003))\n",
    "]"
   ]
  },
  {
   "cell_type": "code",
   "execution_count": 10,
   "id": "4be88b03-2764-4c94-bf67-657834a0a4f1",
   "metadata": {
    "scrolled": true,
    "tags": []
   },
   "outputs": [
    {
     "name": "stdout",
     "output_type": "stream",
     "text": [
      "Model: \"model\"\n",
      "_________________________________________________________________\n",
      " Layer (type)                Output Shape              Param #   \n",
      "=================================================================\n",
      " input_1 (InputLayer)        [(None, 6)]               0         \n",
      "                                                                 \n",
      " sequential (Sequential)     (None, 6)                 5926      \n",
      "                                                                 \n",
      " tf.math.l2_normalize (TFOpL  (None, 6)                0         \n",
      " ambda)                                                          \n",
      "                                                                 \n",
      "=================================================================\n",
      "Total params: 5,926\n",
      "Trainable params: 5,926\n",
      "Non-trainable params: 0\n",
      "_________________________________________________________________\n",
      "Epoch 1/10\n",
      "7/7 [==============================] - 1s 4ms/step - loss: 1.3247\n",
      "Epoch 2/10\n",
      "7/7 [==============================] - 0s 4ms/step - loss: 1.1576\n",
      "Epoch 3/10\n",
      "7/7 [==============================] - 0s 4ms/step - loss: 1.1356\n",
      "Epoch 4/10\n",
      "7/7 [==============================] - 0s 3ms/step - loss: 1.1189\n",
      "Epoch 5/10\n",
      "7/7 [==============================] - 0s 3ms/step - loss: 1.1013\n",
      "Epoch 6/10\n",
      "7/7 [==============================] - 0s 4ms/step - loss: 1.0937\n",
      "Epoch 7/10\n",
      "7/7 [==============================] - 0s 3ms/step - loss: 1.0835\n",
      "Epoch 8/10\n",
      "7/7 [==============================] - 0s 3ms/step - loss: 1.0796\n",
      "Epoch 9/10\n",
      "7/7 [==============================] - 0s 3ms/step - loss: 1.0817\n",
      "Epoch 10/10\n",
      "7/7 [==============================] - 0s 3ms/step - loss: 1.0772\n",
      "7/7 [==============================] - 0s 2ms/step\n"
     ]
    },
    {
     "data": {
      "text/plain": [
       "0.09174311926605505"
      ]
     },
     "execution_count": 10,
     "metadata": {},
     "output_type": "execute_result"
    }
   ],
   "source": [
    "gm=RecommenderModel(modelConfigList[0])\n",
    "gm.train([data_train_x],data_train_y)"
   ]
  },
  {
   "cell_type": "code",
   "execution_count": 28,
   "id": "ed2b2953-959f-45c1-ac80-4980d5705173",
   "metadata": {
    "tags": []
   },
   "outputs": [
    {
     "data": {
      "text/plain": [
       "0.08"
      ]
     },
     "execution_count": 28,
     "metadata": {},
     "output_type": "execute_result"
    }
   ],
   "source": [
    "gm.train_err"
   ]
  },
  {
   "cell_type": "code",
   "execution_count": 29,
   "id": "6d7f3265-1c00-4974-a4f8-e1732f9ef8c5",
   "metadata": {
    "tags": []
   },
   "outputs": [
    {
     "name": "stdout",
     "output_type": "stream",
     "text": [
      "10/10 [==============================] - 0s 2ms/step\n"
     ]
    }
   ],
   "source": [
    "gm.validate()"
   ]
  },
  {
   "cell_type": "code",
   "execution_count": 30,
   "id": "e147c2f1-fa76-43cb-b803-c2a32e8acd2b",
   "metadata": {
    "tags": []
   },
   "outputs": [
    {
     "data": {
      "text/plain": [
       "0.0875"
      ]
     },
     "execution_count": 30,
     "metadata": {},
     "output_type": "execute_result"
    }
   ],
   "source": [
    "gm.validation_err"
   ]
  },
  {
   "cell_type": "code",
   "execution_count": 31,
   "id": "fc433db2-b2a3-44a1-af5d-8c792345409e",
   "metadata": {
    "tags": []
   },
   "outputs": [
    {
     "name": "stdout",
     "output_type": "stream",
     "text": [
      "3/3 [==============================] - 0s 2ms/step\n"
     ]
    }
   ],
   "source": [
    "gm.test()"
   ]
  },
  {
   "cell_type": "code",
   "execution_count": 32,
   "id": "1213da0a-40b5-4d3f-a1fe-8c8d1c1d35b5",
   "metadata": {
    "tags": []
   },
   "outputs": [
    {
     "data": {
      "text/plain": [
       "0.175"
      ]
     },
     "execution_count": 32,
     "metadata": {},
     "output_type": "execute_result"
    }
   ],
   "source": [
    "gm.test_err"
   ]
  },
  {
   "cell_type": "code",
   "execution_count": null,
   "id": "4bf0bcad-1849-4e9d-98ec-29ceeaa6912b",
   "metadata": {},
   "outputs": [],
   "source": []
  },
  {
   "cell_type": "code",
   "execution_count": null,
   "id": "6816230e-27f9-47a9-937c-3ba73d8b2491",
   "metadata": {},
   "outputs": [],
   "source": []
  }
 ],
 "metadata": {
  "environment": {
   "kernel": "python3",
   "name": "tf2-cpu.2-11.m120",
   "type": "gcloud",
   "uri": "us-docker.pkg.dev/deeplearning-platform-release/gcr.io/tf2-cpu.2-11:m120"
  },
  "kernelspec": {
   "display_name": "Python 3 (Local)",
   "language": "python",
   "name": "python3"
  },
  "language_info": {
   "codemirror_mode": {
    "name": "ipython",
    "version": 3
   },
   "file_extension": ".py",
   "mimetype": "text/x-python",
   "name": "python",
   "nbconvert_exporter": "python",
   "pygments_lexer": "ipython3",
   "version": "3.10.14"
  }
 },
 "nbformat": 4,
 "nbformat_minor": 5
}

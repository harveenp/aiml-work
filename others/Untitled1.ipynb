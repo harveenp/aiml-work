{
 "cells": [
  {
   "cell_type": "code",
   "execution_count": 1,
   "id": "2e338ab3-c3dc-4c5d-8c70-55aef8d9c340",
   "metadata": {
    "tags": []
   },
   "outputs": [],
   "source": [
    "import os, sys\n",
    "sys.path.append('lib')\n",
    "import numpy as np\n",
    "from InputDataProcessor import InputDataProcessor "
   ]
  },
  {
   "cell_type": "code",
   "execution_count": null,
   "id": "957a6661-427b-4d1f-a5b7-8664d8aedc54",
   "metadata": {},
   "outputs": [],
   "source": []
  }
 ],
 "metadata": {
  "environment": {
   "kernel": "python3",
   "name": "tf2-cpu.2-11.m120",
   "type": "gcloud",
   "uri": "us-docker.pkg.dev/deeplearning-platform-release/gcr.io/tf2-cpu.2-11:m120"
  },
  "kernelspec": {
   "display_name": "Python 3 (Local)",
   "language": "python",
   "name": "python3"
  },
  "language_info": {
   "codemirror_mode": {
    "name": "ipython",
    "version": 3
   },
   "file_extension": ".py",
   "mimetype": "text/x-python",
   "name": "python",
   "nbconvert_exporter": "python",
   "pygments_lexer": "ipython3",
   "version": "3.10.14"
  }
 },
 "nbformat": 4,
 "nbformat_minor": 5
}

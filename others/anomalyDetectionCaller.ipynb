{
 "cells": [
  {
   "cell_type": "code",
   "execution_count": 17,
   "id": "fd62f144-b801-4967-a043-4c6436193cc9",
   "metadata": {
    "tags": []
   },
   "outputs": [],
   "source": [
    "import os, sys\n",
    "sys.path.append('lib')\n",
    "import numpy as np\n",
    "from InputDataProcessor import InputDataProcessor\n",
    "from anomalyDetection import estimate_gaussian, multivariate_gaussian, select_threshold"
   ]
  },
  {
   "cell_type": "code",
   "execution_count": 18,
   "id": "866e7674-0d57-4f54-b238-b6186b3fc068",
   "metadata": {
    "tags": []
   },
   "outputs": [],
   "source": [
    "idp_X=InputDataProcessor(bucket_name='aiml_harveen', use_case='c3w1/anomaly', file_name='X_part2.npy')"
   ]
  },
  {
   "cell_type": "code",
   "execution_count": 3,
   "id": "43517a0a-0236-436d-9389-70af5802eb59",
   "metadata": {
    "tags": []
   },
   "outputs": [],
   "source": [
    "idp_Xval=InputDataProcessor(bucket_name='aiml_harveen', use_case='c3w1/anomaly', file_name='X_val_part2.npy')"
   ]
  },
  {
   "cell_type": "code",
   "execution_count": 4,
   "id": "0ba844d4-0255-4d54-8168-407cca90b695",
   "metadata": {
    "tags": []
   },
   "outputs": [],
   "source": [
    "idp_yval=InputDataProcessor(bucket_name='aiml_harveen', use_case='c3w1/anomaly', file_name='y_val_part2.npy')"
   ]
  },
  {
   "cell_type": "code",
   "execution_count": 5,
   "id": "ad758be2-b022-4450-a63a-b59944badf0c",
   "metadata": {
    "tags": []
   },
   "outputs": [
    {
     "name": "stdout",
     "output_type": "stream",
     "text": [
      "c3w1/anomaly/orig_data/X_part2.npy\n",
      "c3w1/anomaly/orig_data/X_val_part2.npy\n",
      "c3w1/anomaly/orig_data/y_val_part2.npy\n"
     ]
    }
   ],
   "source": [
    "X_train=idp_X.loadNumpy()\n",
    "X_val=idp_Xval.loadNumpy()\n",
    "y_val=idp_yval.loadNumpy()"
   ]
  },
  {
   "cell_type": "code",
   "execution_count": 6,
   "id": "1df562e4-af55-42b7-92d1-8ccef647d8a9",
   "metadata": {
    "tags": []
   },
   "outputs": [],
   "source": [
    "mu,var=estimate_gaussian(X_train)"
   ]
  },
  {
   "cell_type": "code",
   "execution_count": 7,
   "id": "2781e745-4945-43ba-9d2f-271c087dbd97",
   "metadata": {
    "tags": []
   },
   "outputs": [],
   "source": [
    "p_train = multivariate_gaussian(X_train, mu, var)"
   ]
  },
  {
   "cell_type": "code",
   "execution_count": 8,
   "id": "c19db9be-08b5-45d0-ad6e-59a84a2e7fc2",
   "metadata": {
    "tags": []
   },
   "outputs": [],
   "source": [
    "p_val = multivariate_gaussian(X_val, mu, var)"
   ]
  },
  {
   "cell_type": "code",
   "execution_count": 9,
   "id": "eda4f3a6-d74b-4a39-a5e3-6ae7c621ed65",
   "metadata": {
    "tags": []
   },
   "outputs": [],
   "source": [
    "epsilon,f1=select_threshold(p_val,y_val)"
   ]
  },
  {
   "cell_type": "code",
   "execution_count": 10,
   "id": "eb231cae-19e6-4479-a419-5ee3568cf369",
   "metadata": {
    "tags": []
   },
   "outputs": [
    {
     "data": {
      "text/plain": [
       "(1.3772288907613625e-18, 0.6153846153846154)"
      ]
     },
     "execution_count": 10,
     "metadata": {},
     "output_type": "execute_result"
    }
   ],
   "source": [
    "epsilon,f1"
   ]
  },
  {
   "cell_type": "code",
   "execution_count": 11,
   "id": "b49b3f9e-a26c-40c8-a9bd-126bfc5bfdcb",
   "metadata": {
    "tags": []
   },
   "outputs": [
    {
     "name": "stdout",
     "output_type": "stream",
     "text": [
      "# Anomalies found: 117\n"
     ]
    }
   ],
   "source": [
    "print('# Anomalies found: %d'% sum(p_train < epsilon))"
   ]
  },
  {
   "cell_type": "code",
   "execution_count": null,
   "id": "d4323522-310e-4eec-9869-7ea4fadb8592",
   "metadata": {},
   "outputs": [],
   "source": []
  }
 ],
 "metadata": {
  "environment": {
   "kernel": "python3",
   "name": "tf2-cpu.2-11.m120",
   "type": "gcloud",
   "uri": "us-docker.pkg.dev/deeplearning-platform-release/gcr.io/tf2-cpu.2-11:m120"
  },
  "kernelspec": {
   "display_name": "Python 3 (Local)",
   "language": "python",
   "name": "python3"
  },
  "language_info": {
   "codemirror_mode": {
    "name": "ipython",
    "version": 3
   },
   "file_extension": ".py",
   "mimetype": "text/x-python",
   "name": "python",
   "nbconvert_exporter": "python",
   "pygments_lexer": "ipython3",
   "version": "3.10.14"
  }
 },
 "nbformat": 4,
 "nbformat_minor": 5
}

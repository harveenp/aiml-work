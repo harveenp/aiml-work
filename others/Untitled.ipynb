{
 "cells": [
  {
   "cell_type": "code",
   "execution_count": null,
   "id": "098d5e77-57fb-48ee-b520-cad57c2e96b7",
   "metadata": {
    "tags": []
   },
   "outputs": [],
   "source": [
    "#pip install pickle5"
   ]
  },
  {
   "cell_type": "code",
   "execution_count": null,
   "id": "f3c04d11-2b0c-43bc-bf51-deb295b6587f",
   "metadata": {
    "tags": []
   },
   "outputs": [],
   "source": [
    "import numpy as np\n",
    "import numpy.ma as ma\n",
    "import pandas as pd\n",
    "import tensorflow as tf\n",
    "\n",
    "from tensorflow import keras\n",
    "from sklearn.preprocessing import StandardScaler, MinMaxScaler\n",
    "from sklearn.model_selection import train_test_split\n",
    "import tabulate\n",
    "from recsysNN_utils import *\n",
    "pd.set_option(\"display.precision\", 1)\n",
    "from numpy import genfromtxt"
   ]
  },
  {
   "cell_type": "code",
   "execution_count": null,
   "id": "dda4b8df-0bea-43f8-929f-4c6779be64f5",
   "metadata": {
    "tags": []
   },
   "outputs": [],
   "source": [
    "item_train, user_train, y_train, item_features, user_features, item_vecs, movie_dict, user_to_genre = load_data()"
   ]
  },
  {
   "cell_type": "code",
   "execution_count": null,
   "id": "8f19d504-df6c-4380-b808-84cf27c7fe1d",
   "metadata": {
    "tags": []
   },
   "outputs": [],
   "source": [
    "item_train.shape"
   ]
  },
  {
   "cell_type": "code",
   "execution_count": null,
   "id": "d495f7e4-1588-498a-9f7d-27fa2cdd92e8",
   "metadata": {
    "tags": []
   },
   "outputs": [],
   "source": [
    "user_train.shape"
   ]
  },
  {
   "cell_type": "code",
   "execution_count": null,
   "id": "5eaba42a-4224-4a82-9375-55d417f062cc",
   "metadata": {
    "tags": []
   },
   "outputs": [],
   "source": [
    "y_train.shape"
   ]
  },
  {
   "cell_type": "code",
   "execution_count": null,
   "id": "6ebc3f3a-e333-4dd7-b738-cc5dc4759faa",
   "metadata": {
    "tags": []
   },
   "outputs": [],
   "source": [
    "item_vecs.shape"
   ]
  },
  {
   "cell_type": "code",
   "execution_count": null,
   "id": "7a5a509a-ee9e-42f8-b6c7-b2227211c2cc",
   "metadata": {
    "tags": []
   },
   "outputs": [],
   "source": [
    "item_vecs"
   ]
  },
  {
   "cell_type": "code",
   "execution_count": null,
   "id": "d2d534c0-cd4e-414a-a2ae-3e54abcfa52a",
   "metadata": {
    "tags": []
   },
   "outputs": [],
   "source": [
    "user_to_genre"
   ]
  },
  {
   "cell_type": "code",
   "execution_count": null,
   "id": "bbb8a388-ef09-4231-a39c-a1cab0b38e92",
   "metadata": {
    "tags": []
   },
   "outputs": [],
   "source": [
    "item_features"
   ]
  },
  {
   "cell_type": "code",
   "execution_count": null,
   "id": "8a36e14f-6c13-4001-ba31-d1525baae8ad",
   "metadata": {
    "tags": []
   },
   "outputs": [],
   "source": [
    "user_features"
   ]
  },
  {
   "cell_type": "code",
   "execution_count": null,
   "id": "6bdabf0d-cf69-462b-9ada-ea9e4a366cbf",
   "metadata": {
    "tags": []
   },
   "outputs": [],
   "source": [
    "user_train[:5]"
   ]
  },
  {
   "cell_type": "code",
   "execution_count": null,
   "id": "95d722ca-391f-4ec1-bf56-1de6718555bc",
   "metadata": {
    "tags": []
   },
   "outputs": [],
   "source": [
    "y_train[:5]"
   ]
  },
  {
   "cell_type": "code",
   "execution_count": null,
   "id": "e76f1e87-64d8-4b3d-b692-808f1f18e2c5",
   "metadata": {
    "tags": []
   },
   "outputs": [],
   "source": [
    "item_vecs[:5]"
   ]
  },
  {
   "cell_type": "code",
   "execution_count": null,
   "id": "0c3a4b5a-f830-4938-b1a1-c5fc807002ce",
   "metadata": {
    "tags": []
   },
   "outputs": [],
   "source": [
    "item_vecs.shape"
   ]
  },
  {
   "cell_type": "code",
   "execution_count": null,
   "id": "123b0ca5-f519-4ac1-9f82-2e6a6544f837",
   "metadata": {},
   "outputs": [],
   "source": []
  }
 ],
 "metadata": {
  "environment": {
   "kernel": "python3",
   "name": "tf2-cpu.2-11.m120",
   "type": "gcloud",
   "uri": "us-docker.pkg.dev/deeplearning-platform-release/gcr.io/tf2-cpu.2-11:m120"
  },
  "kernelspec": {
   "display_name": "Python 3 (Local)",
   "language": "python",
   "name": "python3"
  },
  "language_info": {
   "codemirror_mode": {
    "name": "ipython",
    "version": 3
   },
   "file_extension": ".py",
   "mimetype": "text/x-python",
   "name": "python",
   "nbconvert_exporter": "python",
   "pygments_lexer": "ipython3",
   "version": "3.10.14"
  }
 },
 "nbformat": 4,
 "nbformat_minor": 5
}

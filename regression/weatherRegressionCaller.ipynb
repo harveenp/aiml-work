{
 "cells": [
  {
   "cell_type": "code",
   "execution_count": 11,
   "id": "483edbc4-56ef-4e21-941b-5cfc9be0ca4f",
   "metadata": {
    "tags": []
   },
   "outputs": [],
   "source": [
    "import os\n",
    "import numpy as np\n",
    "from InputDataProcessor import InputDataProcessor \n",
    "from GenericModel import GenericModel\n",
    "from distributeFunctions import distribute_602020\n",
    "from dataFilters import csv_weather_data_prediction_filter\n",
    "from tensorflow.keras.losses import BinaryCrossentropy, MeanSquaredError\n",
    "from tensorflow.keras.optimizers import Adam\n",
    "from ModelConfig import ModelConfig"
   ]
  },
  {
   "cell_type": "code",
   "execution_count": 12,
   "id": "b088984c-9a05-40e6-a75d-25adecc916ee",
   "metadata": {
    "tags": []
   },
   "outputs": [],
   "source": [
    "idp=InputDataProcessor(bucket_name='aiml_harveen', use_case='weather_elbasan/regression', file_name='elbasan2021.csv')"
   ]
  },
  {
   "cell_type": "code",
   "execution_count": 13,
   "id": "9b6387e4-47b8-4b37-809f-32bce8b3c025",
   "metadata": {
    "tags": []
   },
   "outputs": [],
   "source": [
    "idp.prepareCsvModelInputData(csv_weather_data_prediction_filter,distribute_602020)"
   ]
  },
  {
   "cell_type": "code",
   "execution_count": 14,
   "id": "dae322f7-1506-4f98-8126-10e1aa6bbcee",
   "metadata": {},
   "outputs": [],
   "source": [
    "os.environ[\"AIP_TRAINING_DATA_URI\"] = \"gs://aiml_harveen/weather_elbasan/regression/training_data/elbasan2021.csv\"\n",
    "os.environ[\"AIP_VALIDATION_DATA_URI\"] = \"gs://aiml_harveen/weather_elbasan/regression/dev_data/elbasan2021.csv\"\n",
    "os.environ[\"AIP_TEST_DATA_URI\"] = \"gs://aiml_harveen/weather_elbasan/regression/test_data/elbasan2021.csv\"\n",
    "os.environ[\"AIP_MODEL_DIR\"] = \"gs://aiml_harveen/weather_elbasan/regression/weather_model\""
   ]
  },
  {
   "cell_type": "code",
   "execution_count": 15,
   "id": "16624cfc-8b58-472b-a11d-f55dc9be1e7c",
   "metadata": {
    "tags": []
   },
   "outputs": [],
   "source": [
    "modelConfigList=[\n",
    "    ModelConfig(\n",
    "        model_type=\"regression\",\n",
    "        layers=[\"relu\",\"relu\",\"linear\"],\n",
    "        neurons=[16,8,1],\n",
    "        epochs=20,\n",
    "        loss=MeanSquaredError(),\n",
    "        optimizer=Adam(learning_rate=0.01),\n",
    "        regularizers=[0.001,0.001,0.001]),\n",
    "    \n",
    "    ModelConfig(\n",
    "        model_type=\"regression\",\n",
    "        layers=[\"relu\",\"relu\",\"linear\"],\n",
    "        neurons=[24,16,1],\n",
    "        epochs=20,\n",
    "        loss=MeanSquaredError(),\n",
    "        optimizer=Adam(learning_rate=0.01),\n",
    "        regularizers=[0.001,0.001,0.001]),\n",
    "\n",
    "    ModelConfig(\n",
    "        model_type=\"regression\",\n",
    "        layers=[\"relu\",\"relu\",\"linear\"],\n",
    "        neurons=[32,16,1],\n",
    "        epochs=20,\n",
    "        loss=MeanSquaredError(),\n",
    "        optimizer=Adam(learning_rate=0.01),\n",
    "        regularizers=[0.001,0.001,0.001]),\n",
    "]"
   ]
  },
  {
   "cell_type": "code",
   "execution_count": 16,
   "id": "130458f4-862b-40d9-969b-91dfd349a634",
   "metadata": {
    "tags": []
   },
   "outputs": [],
   "source": [
    "trainErrAry=np.zeros([len(modelConfigList)])\n",
    "validationErrAry=np.zeros([len(modelConfigList)])\n",
    "\n"
   ]
  },
  {
   "cell_type": "code",
   "execution_count": 17,
   "id": "af035007-4ed1-4ebc-80a5-7dd23bef3dd0",
   "metadata": {
    "tags": []
   },
   "outputs": [
    {
     "name": "stdout",
     "output_type": "stream",
     "text": [
      "Model: \"sequential_4\"\n",
      "_________________________________________________________________\n",
      " Layer (type)                Output Shape              Param #   \n",
      "=================================================================\n",
      " dense_12 (Dense)            (None, 16)                112       \n",
      "                                                                 \n",
      " dense_13 (Dense)            (None, 8)                 136       \n",
      "                                                                 \n",
      " dense_14 (Dense)            (None, 1)                 9         \n",
      "                                                                 \n",
      "=================================================================\n",
      "Total params: 257\n",
      "Trainable params: 257\n",
      "Non-trainable params: 0\n",
      "_________________________________________________________________\n",
      "7/7 [==============================] - 0s 1ms/step\n",
      "3/3 [==============================] - 0s 2ms/step\n",
      "Model: \"sequential_5\"\n",
      "_________________________________________________________________\n",
      " Layer (type)                Output Shape              Param #   \n",
      "=================================================================\n",
      " dense_15 (Dense)            (None, 24)                168       \n",
      "                                                                 \n",
      " dense_16 (Dense)            (None, 16)                400       \n",
      "                                                                 \n",
      " dense_17 (Dense)            (None, 1)                 17        \n",
      "                                                                 \n",
      "=================================================================\n",
      "Total params: 585\n",
      "Trainable params: 585\n",
      "Non-trainable params: 0\n",
      "_________________________________________________________________\n",
      "7/7 [==============================] - 0s 2ms/step\n",
      "3/3 [==============================] - 0s 4ms/step\n",
      "Model: \"sequential_6\"\n",
      "_________________________________________________________________\n",
      " Layer (type)                Output Shape              Param #   \n",
      "=================================================================\n",
      " dense_18 (Dense)            (None, 32)                224       \n",
      "                                                                 \n",
      " dense_19 (Dense)            (None, 16)                528       \n",
      "                                                                 \n",
      " dense_20 (Dense)            (None, 1)                 17        \n",
      "                                                                 \n",
      "=================================================================\n",
      "Total params: 769\n",
      "Trainable params: 769\n",
      "Non-trainable params: 0\n",
      "_________________________________________________________________\n",
      "7/7 [==============================] - 0s 2ms/step\n",
      "3/3 [==============================] - 0s 3ms/step\n"
     ]
    }
   ],
   "source": [
    "for idx,modelConfig in enumerate(modelConfigList):\n",
    "    gm=GenericModel(modelConfig)\n",
    "    gm.train()\n",
    "    trainErrAry[idx] = gm.train_err\n",
    "    gm.validate()\n",
    "    validationErrAry[idx] = gm.validation_err"
   ]
  },
  {
   "cell_type": "code",
   "execution_count": 18,
   "id": "6279be17-d61d-4e89-87e4-c7baeb79f211",
   "metadata": {
    "tags": []
   },
   "outputs": [
    {
     "data": {
      "text/plain": [
       "array([15.72109295, 13.29980612, 11.14596424])"
      ]
     },
     "execution_count": 18,
     "metadata": {},
     "output_type": "execute_result"
    }
   ],
   "source": [
    "trainErrAry"
   ]
  },
  {
   "cell_type": "code",
   "execution_count": 19,
   "id": "e819b865-7d66-4949-8c31-e0c366853cb7",
   "metadata": {
    "tags": []
   },
   "outputs": [
    {
     "data": {
      "text/plain": [
       "array([19.87382403, 20.44225402, 32.56417939])"
      ]
     },
     "execution_count": 19,
     "metadata": {},
     "output_type": "execute_result"
    }
   ],
   "source": [
    "validationErrAry"
   ]
  },
  {
   "cell_type": "code",
   "execution_count": 9,
   "id": "2815d85d-dd6e-4e83-a4e9-3b46bcd69e55",
   "metadata": {
    "tags": []
   },
   "outputs": [
    {
     "data": {
      "text/plain": [
       "array([[14.1906579 , 15.80274403],\n",
       "       [12.09241874, 21.42322218],\n",
       "       [11.21213009, 17.96227199]])"
      ]
     },
     "execution_count": 9,
     "metadata": {},
     "output_type": "execute_result"
    }
   ],
   "source": [
    "mseAry"
   ]
  },
  {
   "cell_type": "code",
   "execution_count": 22,
   "id": "cb7bca95-7479-47b3-a219-258e0113e0d3",
   "metadata": {},
   "outputs": [],
   "source": [
    "#predict(avg_temp=13.9,min_temp=10,max_temp=17.4,wind_dir=73,wind_speed=5.9,pressure=1010.3)"
   ]
  }
 ],
 "metadata": {
  "environment": {
   "kernel": "python3",
   "name": "tf2-cpu.2-11.m120",
   "type": "gcloud",
   "uri": "us-docker.pkg.dev/deeplearning-platform-release/gcr.io/tf2-cpu.2-11:m120"
  },
  "kernelspec": {
   "display_name": "Python 3 (Local)",
   "language": "python",
   "name": "python3"
  },
  "language_info": {
   "codemirror_mode": {
    "name": "ipython",
    "version": 3
   },
   "file_extension": ".py",
   "mimetype": "text/x-python",
   "name": "python",
   "nbconvert_exporter": "python",
   "pygments_lexer": "ipython3",
   "version": "3.10.14"
  }
 },
 "nbformat": 4,
 "nbformat_minor": 5
}

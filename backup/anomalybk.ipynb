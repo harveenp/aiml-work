{
 "cells": [
  {
   "cell_type": "code",
   "execution_count": 208,
   "id": "b6ade816-0723-48fd-97be-8b3e4b5354df",
   "metadata": {
    "tags": []
   },
   "outputs": [],
   "source": [
    "import os, sys\n",
    "sys.path.append('lib')\n",
    "import numpy as np\n",
    "#from kmeans import kMeans_init_centroids, run_kMeans, find_closest_centroids\n",
    "from InputDataProcessor import InputDataProcessor "
   ]
  },
  {
   "cell_type": "code",
   "execution_count": 209,
   "id": "1e0aa280-95b3-45fa-a7cb-e98d60bf28b6",
   "metadata": {
    "tags": []
   },
   "outputs": [],
   "source": [
    "idp_X=InputDataProcessor(bucket_name='aiml_harveen', use_case='c3w1/anomaly', file_name='X_part2.npy')"
   ]
  },
  {
   "cell_type": "code",
   "execution_count": 210,
   "id": "b4985c49-3b53-4aaa-8184-abb398b51aeb",
   "metadata": {
    "tags": []
   },
   "outputs": [],
   "source": [
    "idp_Xval=InputDataProcessor(bucket_name='aiml_harveen', use_case='c3w1/anomaly', file_name='X_val_part2.npy')"
   ]
  },
  {
   "cell_type": "code",
   "execution_count": 211,
   "id": "954cc555-6286-43d7-90d4-65d5a3308572",
   "metadata": {
    "tags": []
   },
   "outputs": [],
   "source": [
    "idp_yval=InputDataProcessor(bucket_name='aiml_harveen', use_case='c3w1/anomaly', file_name='y_val_part2.npy')"
   ]
  },
  {
   "cell_type": "code",
   "execution_count": 212,
   "id": "e6fd0a3e-9fb2-4476-9277-7beb8658a9bd",
   "metadata": {
    "tags": []
   },
   "outputs": [
    {
     "name": "stdout",
     "output_type": "stream",
     "text": [
      "c3w1/anomaly/orig_data/X_part2.npy\n"
     ]
    }
   ],
   "source": [
    "X_train=idp_X.loadNumpy()"
   ]
  },
  {
   "cell_type": "code",
   "execution_count": 213,
   "id": "7a0bfe3e-dbc1-4167-b134-b5c72bccaf90",
   "metadata": {
    "tags": []
   },
   "outputs": [
    {
     "name": "stdout",
     "output_type": "stream",
     "text": [
      "c3w1/anomaly/orig_data/X_val_part2.npy\n"
     ]
    }
   ],
   "source": [
    "X_val=idp_Xval.loadNumpy()"
   ]
  },
  {
   "cell_type": "code",
   "execution_count": 214,
   "id": "3bb0b2e6-4f2a-4816-b278-46cff7dd504d",
   "metadata": {
    "tags": []
   },
   "outputs": [
    {
     "name": "stdout",
     "output_type": "stream",
     "text": [
      "c3w1/anomaly/orig_data/y_val_part2.npy\n"
     ]
    }
   ],
   "source": [
    "y_val=idp_yval.loadNumpy()"
   ]
  },
  {
   "cell_type": "code",
   "execution_count": 215,
   "id": "7cb8e051-d275-4ecf-a46b-979617749a65",
   "metadata": {
    "tags": []
   },
   "outputs": [],
   "source": [
    "def estimate_gaussian(X): \n",
    "    m, n = X.shape\n",
    "    mu=X.sum(axis=0)/m\n",
    "    sum=np.zeros(n)\n",
    "    for elem in range(m):\n",
    "        sum=sum + (X[elem] - mu)**2\n",
    "    var=sum/m\n",
    "    return mu, var"
   ]
  },
  {
   "cell_type": "code",
   "execution_count": 216,
   "id": "14468630-b644-4ecb-8aa7-06c2f3be53b9",
   "metadata": {
    "tags": []
   },
   "outputs": [],
   "source": [
    "def multivariate_gaussian(X, mu, var):\n",
    "    \"\"\"\n",
    "    Computes the probability \n",
    "    density function of the examples X under the multivariate gaussian \n",
    "    distribution with parameters mu and var. If var is a matrix, it is\n",
    "    treated as the covariance matrix. If var is a vector, it is treated\n",
    "    as the var values of the variances in each dimension (a diagonal\n",
    "    covariance matrix\n",
    "    \"\"\"\n",
    "    \n",
    "    k = len(mu)\n",
    "    \n",
    "    if var.ndim == 1:\n",
    "        var = np.diag(var)\n",
    "        \n",
    "    X = X - mu\n",
    "    p = (2* np.pi)**(-k/2) * np.linalg.det(var)**(-0.5) * \\\n",
    "        np.exp(-0.5 * np.sum(np.matmul(X, np.linalg.pinv(var)) * X, axis=1))\n",
    "    \n",
    "    return p"
   ]
  },
  {
   "cell_type": "code",
   "execution_count": 217,
   "id": "ec2d429b-4643-4704-8084-0a7b3dc75a0e",
   "metadata": {},
   "outputs": [],
   "source": [
    "def select_threshold(p_val,y_val):\n",
    "    bestF1=0.0\n",
    "    bestEpsilon=0.0\n",
    "    step_size=(max(p_val) - min(p_val))/1000\n",
    "    for epsilon in np.arange(min(p_val),max(p_val),step_size):\n",
    "        predictions=np.where(p_val <= epsilon,1,0)\n",
    "        tp=np.sum(predictions[y_val==1])\n",
    "        fp=np.sum(predictions[y_val==0])\n",
    "        fn=np.sum(y_val[predictions==0])\n",
    "        precision=tp/(tp + fp)\n",
    "        recall=tp/(tp+fn)\n",
    "        F1=(2*precision*recall)/(precision + recall)\n",
    "        if(F1>bestF1):\n",
    "            bestF1=F1\n",
    "            bestEpsilon=epsilon\n",
    "    return bestEpsilon,bestF1"
   ]
  },
  {
   "cell_type": "code",
   "execution_count": 218,
   "id": "e3bde4cc-51d4-4ca7-bebd-ee9b2a7c3e91",
   "metadata": {
    "tags": []
   },
   "outputs": [],
   "source": [
    "mu,var=estimate_gaussian(X_train)"
   ]
  },
  {
   "cell_type": "code",
   "execution_count": 223,
   "id": "1e7c86a3-00d1-4d26-be77-062128d24655",
   "metadata": {
    "tags": []
   },
   "outputs": [],
   "source": [
    "p_train = multivariate_gaussian(X_train, mu, var)"
   ]
  },
  {
   "cell_type": "code",
   "execution_count": 219,
   "id": "d74b4fd5-50c8-4d20-88af-595300d28028",
   "metadata": {
    "tags": []
   },
   "outputs": [],
   "source": [
    "p_val = multivariate_gaussian(X_val, mu, var)"
   ]
  },
  {
   "cell_type": "code",
   "execution_count": 220,
   "id": "a7290e96-1641-4065-8a93-b5badf3def0f",
   "metadata": {
    "tags": []
   },
   "outputs": [],
   "source": [
    "epsilon,f1=select_threshold(p_val,y_val)"
   ]
  },
  {
   "cell_type": "code",
   "execution_count": 221,
   "id": "141cd2d4-2ab7-4efb-b52d-6f73be061c0c",
   "metadata": {
    "tags": []
   },
   "outputs": [
    {
     "data": {
      "text/plain": [
       "(1.3772288907613625e-18, 0.6153846153846154)"
      ]
     },
     "execution_count": 221,
     "metadata": {},
     "output_type": "execute_result"
    }
   ],
   "source": [
    "epsilon,f1"
   ]
  },
  {
   "cell_type": "code",
   "execution_count": null,
   "id": "17855482-f67d-4194-a50d-fc1734bc64de",
   "metadata": {},
   "outputs": [],
   "source": []
  },
  {
   "cell_type": "code",
   "execution_count": 224,
   "id": "9cce5e1e-0d43-4080-a9b7-95cc8786e2d0",
   "metadata": {
    "tags": []
   },
   "outputs": [
    {
     "name": "stdout",
     "output_type": "stream",
     "text": [
      "# Anomalies found: 117\n"
     ]
    }
   ],
   "source": [
    "print('# Anomalies found: %d'% sum(p_train < epsilon))"
   ]
  },
  {
   "cell_type": "code",
   "execution_count": null,
   "id": "5d9905e4-4a79-466a-8a25-0e8c02877325",
   "metadata": {},
   "outputs": [],
   "source": []
  }
 ],
 "metadata": {
  "environment": {
   "kernel": "python3",
   "name": "tf2-cpu.2-11.m120",
   "type": "gcloud",
   "uri": "us-docker.pkg.dev/deeplearning-platform-release/gcr.io/tf2-cpu.2-11:m120"
  },
  "kernelspec": {
   "display_name": "Python 3 (Local)",
   "language": "python",
   "name": "python3"
  },
  "language_info": {
   "codemirror_mode": {
    "name": "ipython",
    "version": 3
   },
   "file_extension": ".py",
   "mimetype": "text/x-python",
   "name": "python",
   "nbconvert_exporter": "python",
   "pygments_lexer": "ipython3",
   "version": "3.10.14"
  }
 },
 "nbformat": 4,
 "nbformat_minor": 5
}
